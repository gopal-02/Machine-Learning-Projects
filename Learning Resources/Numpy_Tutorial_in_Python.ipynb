{
  "cells": [
    {
      "cell_type": "markdown",
      "metadata": {
        "id": "iQ-JMxBVZktU"
      },
      "source": [
        "NumPy - Numerical Python"
      ]
    },
    {
      "cell_type": "markdown",
      "metadata": {
        "id": "JPFcfoOkZl-W"
      },
      "source": [
        "Advantages of Numpy Arrays:\n",
        "\n",
        "1. Allows several Mathematical Operations\n",
        "2. Faster operations"
      ]
    },
    {
      "cell_type": "code",
      "execution_count": null,
      "metadata": {
        "id": "FKQ8J2p3XaCm"
      },
      "outputs": [],
      "source": [
        "import numpy as np"
      ]
    },
    {
      "cell_type": "markdown",
      "metadata": {
        "id": "00t7Sra2dN6O"
      },
      "source": [
        "List vs Numpy - Time Taken"
      ]
    },
    {
      "cell_type": "code",
      "execution_count": null,
      "metadata": {
        "id": "ilCVM61ec41w"
      },
      "outputs": [],
      "source": [
        "from time import process_time"
      ]
    },
    {
      "cell_type": "markdown",
      "metadata": {
        "id": "HeB32kledZGx"
      },
      "source": [
        "Time taken by a list"
      ]
    },
    {
      "cell_type": "code",
      "execution_count": null,
      "metadata": {
        "colab": {
          "base_uri": "https://localhost:8080/"
        },
        "id": "_dNK1wqEdXtu",
        "outputId": "1a98cf75-6424-41f2-d85c-07e5e4c2bf12"
      },
      "outputs": [],
      "source": [
        "python_list = [i for i in range(10000)]\n",
        "\n",
        "start_time = process_time()\n",
        "\n",
        "python_list = [i+5 for i in python_list]\n",
        "\n",
        "end_time = process_time()\n",
        "\n",
        "print(end_time - start_time)"
      ]
    },
    {
      "cell_type": "code",
      "execution_count": null,
      "metadata": {
        "colab": {
          "base_uri": "https://localhost:8080/"
        },
        "id": "fCJjgEcJeFss",
        "outputId": "624eefc2-8236-41a5-e8a1-2ca3d0d330f2"
      },
      "outputs": [],
      "source": [
        "np_array = np.array([i for i in range(10000)])\n",
        "\n",
        "start_time = process_time()\n",
        "\n",
        "np_array += 5  \n",
        "\n",
        "end_time = process_time()\n",
        "\n",
        "print(end_time - start_time)"
      ]
    },
    {
      "cell_type": "markdown",
      "metadata": {
        "id": "ZuMfmL4ze2MM"
      },
      "source": [
        "Numpy Arrays"
      ]
    },
    {
      "cell_type": "code",
      "execution_count": null,
      "metadata": {
        "colab": {
          "base_uri": "https://localhost:8080/"
        },
        "id": "ALnk1TFGeozQ",
        "outputId": "e4619ad6-1da3-4d99-c959-9bd59a887bbf"
      },
      "outputs": [],
      "source": [
        "# list\n",
        "list1 = [1,2,3,4,5]\n",
        "print(list1)\n",
        "type(list1)"
      ]
    },
    {
      "cell_type": "code",
      "execution_count": null,
      "metadata": {
        "colab": {
          "base_uri": "https://localhost:8080/"
        },
        "id": "0HHyvSq9fERJ",
        "outputId": "85967582-1d6c-40a0-cca7-08a46bf66505"
      },
      "outputs": [],
      "source": [
        "np_array = np.array([1,2,3,4,5])\n",
        "print(np_array)\n",
        "type(np_array)"
      ]
    },
    {
      "cell_type": "code",
      "execution_count": null,
      "metadata": {
        "colab": {
          "base_uri": "https://localhost:8080/"
        },
        "id": "K7OV29HvfTO1",
        "outputId": "2c05ff0a-fcbc-4f57-a8cf-a244c7aacc7a"
      },
      "outputs": [],
      "source": [
        "# creating a 1 dim array\n",
        "a = np.array([1,2,3,4])\n",
        "print(a)"
      ]
    },
    {
      "cell_type": "code",
      "execution_count": null,
      "metadata": {
        "colab": {
          "base_uri": "https://localhost:8080/"
        },
        "id": "ijT4obBQfiJn",
        "outputId": "fffe884e-b46a-472d-ef26-c755066bc76f"
      },
      "outputs": [],
      "source": [
        "a.shape"
      ]
    },
    {
      "cell_type": "code",
      "execution_count": null,
      "metadata": {
        "colab": {
          "base_uri": "https://localhost:8080/"
        },
        "id": "coB3eM3_flqI",
        "outputId": "10e7a2d1-1c87-4037-b894-bf905d7b0bd6"
      },
      "outputs": [],
      "source": [
        "b = np.array([(1,2,3,4),(5,6,7,8)])\n",
        "print(b)"
      ]
    },
    {
      "cell_type": "code",
      "execution_count": null,
      "metadata": {
        "colab": {
          "base_uri": "https://localhost:8080/"
        },
        "id": "27l557XbfvoC",
        "outputId": "baaa4382-cd76-41d9-a3df-03f670e691be"
      },
      "outputs": [],
      "source": [
        "b.shape"
      ]
    },
    {
      "cell_type": "code",
      "execution_count": null,
      "metadata": {
        "colab": {
          "base_uri": "https://localhost:8080/"
        },
        "id": "3Pa0rTVTf1Xy",
        "outputId": "8e0a0e1e-2b60-4d10-8ec3-7577463ddd88"
      },
      "outputs": [],
      "source": [
        "c = np.array([(1,2,3,4),(5,6,7,8)],dtype=float)\n",
        "print(c)"
      ]
    },
    {
      "cell_type": "markdown",
      "metadata": {
        "id": "nKJIkHCugL78"
      },
      "source": [
        "Initial Placeholders in numpy arrays"
      ]
    },
    {
      "cell_type": "code",
      "execution_count": null,
      "metadata": {
        "colab": {
          "base_uri": "https://localhost:8080/"
        },
        "id": "l1RUrtWmgGCc",
        "outputId": "4be16285-c27f-485f-e186-9ae8958396b0"
      },
      "outputs": [],
      "source": [
        "# create a numpy array of Zeros\n",
        "x = np.zeros((4,5))\n",
        "print(x)"
      ]
    },
    {
      "cell_type": "code",
      "execution_count": null,
      "metadata": {
        "colab": {
          "base_uri": "https://localhost:8080/"
        },
        "id": "tK7yGqeaghj8",
        "outputId": "530f1d4e-7423-4444-bffd-96de4f53d685"
      },
      "outputs": [],
      "source": [
        "# create a numpy array of ones\n",
        "y = np.ones((3,3))\n",
        "print(y)"
      ]
    },
    {
      "cell_type": "code",
      "execution_count": null,
      "metadata": {
        "colab": {
          "base_uri": "https://localhost:8080/"
        },
        "id": "YpYSe_hogtfX",
        "outputId": "267d9fe5-f0c6-4e16-bf2f-2a14ad2d4aa2"
      },
      "outputs": [],
      "source": [
        "# array of a particular value\n",
        "z = np.full((5,4),5)\n",
        "print(z)"
      ]
    },
    {
      "cell_type": "code",
      "execution_count": null,
      "metadata": {
        "colab": {
          "base_uri": "https://localhost:8080/"
        },
        "id": "7_qKF47Rg6OW",
        "outputId": "c3d49075-62f0-4468-ecbd-6a3b63ca0645"
      },
      "outputs": [],
      "source": [
        "# create an identity matrix\n",
        "a = np.eye(5)\n",
        "print(a)"
      ]
    },
    {
      "cell_type": "code",
      "execution_count": null,
      "metadata": {
        "colab": {
          "base_uri": "https://localhost:8080/"
        },
        "id": "RGDDb3HXhRcp",
        "outputId": "de1c9124-8482-47fc-a7bf-83d981bb0f16"
      },
      "outputs": [],
      "source": [
        "# create a numpy array with random values\n",
        "b = np.random.random((3,4))\n",
        "print(b)"
      ]
    },
    {
      "cell_type": "code",
      "execution_count": null,
      "metadata": {
        "colab": {
          "base_uri": "https://localhost:8080/"
        },
        "id": "Qip1Wyr3hjL8",
        "outputId": "a8cc4190-96db-4a0b-e84d-2283c610b977"
      },
      "outputs": [],
      "source": [
        "# random integer values array within a specific range\n",
        "c = np.random.randint(10,100,(3,5))\n",
        "print(c)"
      ]
    },
    {
      "cell_type": "code",
      "execution_count": null,
      "metadata": {
        "colab": {
          "base_uri": "https://localhost:8080/"
        },
        "id": "vmBRXUW9h8l2",
        "outputId": "f4813681-e86c-4d4a-ad29-f24b867072cc"
      },
      "outputs": [],
      "source": [
        "# array of evenly spaced values --> specifying the number of values required\n",
        "d = np.linspace(10,30,5)\n",
        "print(d)"
      ]
    },
    {
      "cell_type": "code",
      "execution_count": null,
      "metadata": {
        "colab": {
          "base_uri": "https://localhost:8080/"
        },
        "id": "mWQxXFYViQhn",
        "outputId": "3e34019e-2a9d-4654-a016-f6e5624c0d3d"
      },
      "outputs": [],
      "source": [
        "# array of evenly spaced values --> specifying the step\n",
        "e = np.arange(10,30,5)\n",
        "print(e)"
      ]
    },
    {
      "cell_type": "code",
      "execution_count": null,
      "metadata": {
        "colab": {
          "base_uri": "https://localhost:8080/"
        },
        "id": "X6Y2SwSHio60",
        "outputId": "fb687e25-f7db-4771-fea3-8e0d78534c7d"
      },
      "outputs": [],
      "source": [
        "# convert a list to a numpy array\n",
        "list2 = [10,20,20,20,50]\n",
        "\n",
        "np_array = np.asarray(list2)\n",
        "print(np_array)\n",
        "type(np_array)"
      ]
    },
    {
      "cell_type": "markdown",
      "metadata": {
        "id": "_SCNSk4njMtR"
      },
      "source": [
        "Analysing a numpy array"
      ]
    },
    {
      "cell_type": "code",
      "execution_count": null,
      "metadata": {
        "colab": {
          "base_uri": "https://localhost:8080/"
        },
        "id": "acjKBd9kjFQ5",
        "outputId": "fe726b4a-7448-4ea8-f7ed-474223bf0fb8"
      },
      "outputs": [],
      "source": [
        "c = np.random.randint(10,90,(5,5))\n",
        "print(c)"
      ]
    },
    {
      "cell_type": "code",
      "execution_count": null,
      "metadata": {
        "colab": {
          "base_uri": "https://localhost:8080/"
        },
        "id": "1ANEENVljXww",
        "outputId": "26a74ab4-bd04-4a0a-9e44-5518ec9cf43e"
      },
      "outputs": [],
      "source": [
        "# array dimension\n",
        "print(c.shape)"
      ]
    },
    {
      "cell_type": "code",
      "execution_count": null,
      "metadata": {
        "colab": {
          "base_uri": "https://localhost:8080/"
        },
        "id": "QNEc5GKOje1F",
        "outputId": "5307fa9c-a192-49a1-f4d4-9d8652f30f49"
      },
      "outputs": [],
      "source": [
        "# number of dimensions\n",
        "print(c.ndim)"
      ]
    },
    {
      "cell_type": "code",
      "execution_count": null,
      "metadata": {
        "colab": {
          "base_uri": "https://localhost:8080/"
        },
        "id": "u0keyHukjlNp",
        "outputId": "1e91fc62-0b03-490a-9349-38d6cf8e321d"
      },
      "outputs": [],
      "source": [
        "# number of elements in an array\n",
        "print(c.size)"
      ]
    },
    {
      "cell_type": "code",
      "execution_count": null,
      "metadata": {
        "colab": {
          "base_uri": "https://localhost:8080/"
        },
        "id": "nMV1h5NwjuQ-",
        "outputId": "46e84636-2c88-45de-ce94-47bbb1192ca5"
      },
      "outputs": [],
      "source": [
        "# checking the data type of the values in the array\n",
        "print(c.dtype)"
      ]
    },
    {
      "cell_type": "markdown",
      "metadata": {
        "id": "EjUgn_Okj8uc"
      },
      "source": [
        "Mathematical operations on a np array"
      ]
    },
    {
      "cell_type": "code",
      "execution_count": null,
      "metadata": {
        "colab": {
          "base_uri": "https://localhost:8080/"
        },
        "id": "bPfwfe-Dj3Vl",
        "outputId": "f1dbeee7-0d6c-401e-f84d-5cf0fa3f8247"
      },
      "outputs": [],
      "source": [
        "list1 = [1,2,3,4,5]\n",
        "list2 = [6,7,8,9,10]\n",
        "\n",
        "print(list1 + list2)    # concatenate or joins two list"
      ]
    },
    {
      "cell_type": "code",
      "execution_count": null,
      "metadata": {
        "id": "t6TmaVFCkKqq"
      },
      "outputs": [],
      "source": [
        "a = np.random.randint(0,10,(3,3))\n",
        "b = np.random.randint(10,20,(3,3))"
      ]
    },
    {
      "cell_type": "code",
      "execution_count": null,
      "metadata": {
        "colab": {
          "base_uri": "https://localhost:8080/"
        },
        "id": "cZqQPRF_klJZ",
        "outputId": "a2fef715-c7eb-47cb-eab8-06401fe2cd1f"
      },
      "outputs": [],
      "source": [
        "print(a)\n",
        "print(b)"
      ]
    },
    {
      "cell_type": "code",
      "execution_count": null,
      "metadata": {
        "colab": {
          "base_uri": "https://localhost:8080/"
        },
        "id": "5Hk6D3LNkn1S",
        "outputId": "380c7dc5-46c0-4bba-b724-7361f10763fe"
      },
      "outputs": [],
      "source": [
        "print(a+b)\n",
        "print(a-b)\n",
        "print(a*b)\n",
        "print(a/b)"
      ]
    },
    {
      "cell_type": "code",
      "execution_count": null,
      "metadata": {
        "id": "WGH-A2g5lDYa"
      },
      "outputs": [],
      "source": [
        "a = np.random.randint(0,10,(3,3))\n",
        "b = np.random.randint(10,20,(3,3))"
      ]
    },
    {
      "cell_type": "code",
      "execution_count": null,
      "metadata": {
        "colab": {
          "base_uri": "https://localhost:8080/"
        },
        "id": "CBKsnb4olFTK",
        "outputId": "57983975-180c-44fc-e1ae-e7cc523fe8fd"
      },
      "outputs": [],
      "source": [
        "print(a)\n",
        "print(b)"
      ]
    },
    {
      "cell_type": "code",
      "execution_count": null,
      "metadata": {
        "colab": {
          "base_uri": "https://localhost:8080/"
        },
        "id": "SbHjIBVyk22r",
        "outputId": "20e9d30a-8eef-486e-c2bd-f4af7d7b027a"
      },
      "outputs": [],
      "source": [
        "print(np.add(a,b))\n",
        "print(np.subtract(a,b))\n",
        "print(np.multiply(a,b))\n",
        "print(np.divide(a,b))"
      ]
    },
    {
      "cell_type": "markdown",
      "metadata": {
        "id": "DJ572KZIlZdb"
      },
      "source": [
        "Array Manipulation"
      ]
    },
    {
      "cell_type": "code",
      "execution_count": null,
      "metadata": {
        "colab": {
          "base_uri": "https://localhost:8080/"
        },
        "id": "v4u38bHwlYu2",
        "outputId": "98087ebe-64d7-498d-a25c-168119903d1e"
      },
      "outputs": [],
      "source": [
        "array = np.random.randint(0,10,(2,3))\n",
        "print(array)\n",
        "print(array.shape)"
      ]
    },
    {
      "cell_type": "code",
      "execution_count": null,
      "metadata": {
        "colab": {
          "base_uri": "https://localhost:8080/"
        },
        "id": "_AA0D3sPlUDw",
        "outputId": "089d56c1-0bee-425c-b57d-d90f79bfe42b"
      },
      "outputs": [],
      "source": [
        "# transpose\n",
        "trans = np.transpose(array)\n",
        "print(trans)\n",
        "print(trans.shape)"
      ]
    },
    {
      "cell_type": "code",
      "execution_count": null,
      "metadata": {
        "colab": {
          "base_uri": "https://localhost:8080/"
        },
        "id": "Gi89eXMZlxSR",
        "outputId": "d171777b-6237-461f-811a-149fab9056c9"
      },
      "outputs": [],
      "source": [
        "array = np.random.randint(0,10,(2,3))\n",
        "print(array)\n",
        "print(array.shape)"
      ]
    },
    {
      "cell_type": "code",
      "execution_count": null,
      "metadata": {
        "colab": {
          "base_uri": "https://localhost:8080/"
        },
        "id": "uygDrgUgl2la",
        "outputId": "ee8a8edb-0030-47bf-9cdf-11e42f33b5d8"
      },
      "outputs": [],
      "source": [
        "trans2 = array.T\n",
        "print(trans2)\n",
        "print(trans2.shape)"
      ]
    },
    {
      "cell_type": "code",
      "execution_count": null,
      "metadata": {
        "colab": {
          "base_uri": "https://localhost:8080/"
        },
        "id": "h4DCLsCemAw4",
        "outputId": "36ab0863-e1a9-4c75-e32b-7dd22b5bf785"
      },
      "outputs": [],
      "source": [
        "# reshaping a array\n",
        "a = np.random.randint(0,10,(2,3))\n",
        "print(a)\n",
        "print(a.shape)"
      ]
    },
    {
      "cell_type": "code",
      "execution_count": null,
      "metadata": {
        "colab": {
          "base_uri": "https://localhost:8080/"
        },
        "id": "blUvf7PHmOAl",
        "outputId": "af29fee1-552f-4be5-8975-baf219955000"
      },
      "outputs": [],
      "source": [
        "b = a.reshape(3,2)\n",
        "print(b)\n",
        "print(b.shape)"
      ]
    }
  ],
  "metadata": {
    "colab": {
      "collapsed_sections": [],
      "provenance": []
    },
    "kernelspec": {
      "display_name": "Python 3.10.8 64-bit",
      "language": "python",
      "name": "python3"
    },
    "language_info": {
      "name": "python",
      "version": "3.10.8"
    },
    "vscode": {
      "interpreter": {
        "hash": "369f2c481f4da34e4445cda3fffd2e751bd1c4d706f27375911949ba6bb62e1c"
      }
    }
  },
  "nbformat": 4,
  "nbformat_minor": 0
}
